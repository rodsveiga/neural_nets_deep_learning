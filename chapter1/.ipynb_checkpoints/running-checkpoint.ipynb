{
 "cells": [
  {
   "cell_type": "code",
   "execution_count": 10,
   "metadata": {
    "collapsed": true
   },
   "outputs": [],
   "source": [
    "import mnist_loader\n",
    "import network"
   ]
  },
  {
   "cell_type": "code",
   "execution_count": 11,
   "metadata": {
    "collapsed": true
   },
   "outputs": [],
   "source": [
    "training_data, validation_data, test_data = mnist_loader.load_data_wrapper()\n",
    "training_data = list(training_data)"
   ]
  },
  {
   "cell_type": "code",
   "execution_count": 12,
   "metadata": {},
   "outputs": [],
   "source": [
    "net = network.Network([784, 30, 10])"
   ]
  },
  {
   "cell_type": "code",
   "execution_count": 13,
   "metadata": {},
   "outputs": [
    {
     "name": "stdout",
     "output_type": "stream",
     "text": [
      "Epoch 0 : 9041 / 10000\n",
      "Epoch 1 : 9203 / 10000\n",
      "Epoch 2 : 9242 / 10000\n",
      "Epoch 3 : 9334 / 10000\n",
      "Epoch 4 : 9356 / 10000\n",
      "Epoch 5 : 9359 / 10000\n",
      "Epoch 6 : 9392 / 10000\n",
      "Epoch 7 : 9416 / 10000\n",
      "Epoch 8 : 9381 / 10000\n",
      "Epoch 9 : 9361 / 10000\n",
      "Epoch 10 : 9398 / 10000\n",
      "Epoch 11 : 9391 / 10000\n",
      "Epoch 12 : 9429 / 10000\n",
      "Epoch 13 : 9425 / 10000\n",
      "Epoch 14 : 9417 / 10000\n",
      "Epoch 15 : 9424 / 10000\n",
      "Epoch 16 : 9428 / 10000\n",
      "Epoch 17 : 9424 / 10000\n",
      "Epoch 18 : 9455 / 10000\n",
      "Epoch 19 : 9445 / 10000\n",
      "Epoch 20 : 9428 / 10000\n",
      "Epoch 21 : 9453 / 10000\n",
      "Epoch 22 : 9468 / 10000\n",
      "Epoch 23 : 9445 / 10000\n",
      "Epoch 24 : 9459 / 10000\n",
      "Epoch 25 : 9464 / 10000\n",
      "Epoch 26 : 9458 / 10000\n",
      "Epoch 27 : 9459 / 10000\n",
      "Epoch 28 : 9463 / 10000\n",
      "Epoch 29 : 9476 / 10000\n"
     ]
    }
   ],
   "source": [
    "net.SGD(training_data, 30, 10, 3.0, test_data=test_data)"
   ]
  },
  {
   "cell_type": "code",
   "execution_count": null,
   "metadata": {
    "collapsed": true
   },
   "outputs": [],
   "source": []
  }
 ],
 "metadata": {
  "kernelspec": {
   "display_name": "Python 3",
   "language": "python",
   "name": "python3"
  },
  "language_info": {
   "codemirror_mode": {
    "name": "ipython",
    "version": 3
   },
   "file_extension": ".py",
   "mimetype": "text/x-python",
   "name": "python",
   "nbconvert_exporter": "python",
   "pygments_lexer": "ipython3",
   "version": "3.6.3"
  },
  "latex_envs": {
   "LaTeX_envs_menu_present": true,
   "autocomplete": true,
   "bibliofile": "biblio.bib",
   "cite_by": "apalike",
   "current_citInitial": 1,
   "eqLabelWithNumbers": true,
   "eqNumInitial": 1,
   "hotkeys": {
    "equation": "Ctrl-E",
    "itemize": "Ctrl-I"
   },
   "labels_anchors": false,
   "latex_user_defs": false,
   "report_style_numbering": false,
   "user_envs_cfg": false
  }
 },
 "nbformat": 4,
 "nbformat_minor": 2
}
