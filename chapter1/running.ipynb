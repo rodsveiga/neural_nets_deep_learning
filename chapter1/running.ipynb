{
 "cells": [
  {
   "cell_type": "code",
   "execution_count": 2,
   "metadata": {},
   "outputs": [],
   "source": [
    "import mnist_loader\n",
    "training_data, validation_data, test_data = mnist_loader.load_data_wrapper()\n",
    "training_data = list(training_data)"
   ]
  },
  {
   "cell_type": "code",
   "execution_count": 4,
   "metadata": {},
   "outputs": [],
   "source": [
    "import network\n",
    "net = network.Network([784, 30, 10])"
   ]
  },
  {
   "cell_type": "code",
   "execution_count": 5,
   "metadata": {},
   "outputs": [
    {
     "name": "stdout",
     "output_type": "stream",
     "text": [
      "Epoch 0 : 9065 / 10000\n",
      "Epoch 1 : 9223 / 10000\n",
      "Epoch 2 : 9285 / 10000\n",
      "Epoch 3 : 9339 / 10000\n",
      "Epoch 4 : 9367 / 10000\n",
      "Epoch 5 : 9402 / 10000\n",
      "Epoch 6 : 9395 / 10000\n",
      "Epoch 7 : 9381 / 10000\n",
      "Epoch 8 : 9418 / 10000\n",
      "Epoch 9 : 9414 / 10000\n",
      "Epoch 10 : 9406 / 10000\n",
      "Epoch 11 : 9429 / 10000\n",
      "Epoch 12 : 9444 / 10000\n",
      "Epoch 13 : 9440 / 10000\n",
      "Epoch 14 : 9470 / 10000\n",
      "Epoch 15 : 9447 / 10000\n",
      "Epoch 16 : 9438 / 10000\n",
      "Epoch 17 : 9413 / 10000\n",
      "Epoch 18 : 9447 / 10000\n",
      "Epoch 19 : 9460 / 10000\n",
      "Epoch 20 : 9448 / 10000\n",
      "Epoch 21 : 9448 / 10000\n",
      "Epoch 22 : 9442 / 10000\n",
      "Epoch 23 : 9444 / 10000\n",
      "Epoch 24 : 9456 / 10000\n",
      "Epoch 25 : 9447 / 10000\n",
      "Epoch 26 : 9448 / 10000\n",
      "Epoch 27 : 9449 / 10000\n",
      "Epoch 28 : 9439 / 10000\n",
      "Epoch 29 : 9457 / 10000\n"
     ]
    }
   ],
   "source": [
    "net.SGD(training_data, 30, 10, 3.0, test_data=test_data)"
   ]
  },
  {
   "cell_type": "code",
   "execution_count": null,
   "metadata": {
    "collapsed": true
   },
   "outputs": [],
   "source": []
  }
 ],
 "metadata": {
  "kernelspec": {
   "display_name": "Python 3",
   "language": "python",
   "name": "python3"
  },
  "language_info": {
   "codemirror_mode": {
    "name": "ipython",
    "version": 3
   },
   "file_extension": ".py",
   "mimetype": "text/x-python",
   "name": "python",
   "nbconvert_exporter": "python",
   "pygments_lexer": "ipython3",
   "version": "3.6.3"
  },
  "latex_envs": {
   "LaTeX_envs_menu_present": true,
   "autocomplete": true,
   "bibliofile": "biblio.bib",
   "cite_by": "apalike",
   "current_citInitial": 1,
   "eqLabelWithNumbers": true,
   "eqNumInitial": 1,
   "hotkeys": {
    "equation": "Ctrl-E",
    "itemize": "Ctrl-I"
   },
   "labels_anchors": false,
   "latex_user_defs": false,
   "report_style_numbering": false,
   "user_envs_cfg": false
  }
 },
 "nbformat": 4,
 "nbformat_minor": 2
}
