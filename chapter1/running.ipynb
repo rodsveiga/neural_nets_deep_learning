{
 "cells": [
  {
   "cell_type": "code",
   "execution_count": 1,
   "metadata": {
    "collapsed": true
   },
   "outputs": [],
   "source": [
    "import mnist_loader\n",
    "import network"
   ]
  },
  {
   "cell_type": "code",
   "execution_count": 2,
   "metadata": {
    "collapsed": true
   },
   "outputs": [],
   "source": [
    "training_data, validation_data, test_data = mnist_loader.load_data_wrapper()"
   ]
  },
  {
   "cell_type": "code",
   "execution_count": 3,
   "metadata": {
    "collapsed": true
   },
   "outputs": [],
   "source": [
    "training_data = list(training_data)\n",
    "test_data = list(test_data)\n",
    "validation_data = list(validation_data)"
   ]
  },
  {
   "cell_type": "code",
   "execution_count": 7,
   "metadata": {},
   "outputs": [
    {
     "name": "stdout",
     "output_type": "stream",
     "text": [
      "Epoch 0 : 8950 / 10000\n",
      "Epoch 1 : 9086 / 10000\n",
      "Epoch 2 : 9096 / 10000\n",
      "Epoch 3 : 9098 / 10000\n",
      "Epoch 4 : 9122 / 10000\n",
      "Epoch 5 : 9137 / 10000\n",
      "Epoch 6 : 9092 / 10000\n",
      "Epoch 7 : 9155 / 10000\n",
      "Epoch 8 : 9124 / 10000\n",
      "Epoch 9 : 9145 / 10000\n",
      "Epoch 10 : 9153 / 10000\n",
      "Epoch 11 : 9195 / 10000\n",
      "Epoch 12 : 9175 / 10000\n",
      "Epoch 13 : 9181 / 10000\n",
      "Epoch 14 : 9196 / 10000\n",
      "Epoch 15 : 9180 / 10000\n",
      "Epoch 16 : 9163 / 10000\n",
      "Epoch 17 : 9156 / 10000\n",
      "Epoch 18 : 9178 / 10000\n",
      "Epoch 19 : 9176 / 10000\n",
      "Epoch 20 : 9163 / 10000\n",
      "Epoch 21 : 9138 / 10000\n",
      "Epoch 22 : 9191 / 10000\n",
      "Epoch 23 : 9188 / 10000\n",
      "Epoch 24 : 9184 / 10000\n",
      "Epoch 25 : 9182 / 10000\n",
      "Epoch 26 : 9218 / 10000\n",
      "Epoch 27 : 9214 / 10000\n",
      "Epoch 28 : 9228 / 10000\n",
      "Epoch 29 : 9199 / 10000\n"
     ]
    }
   ],
   "source": [
    "net = network.Network([784, 10, 10])\n",
    "net.SGD(training_data, epochs=30, mini_batch_size=10, eta=3.0, test_data=test_data)"
   ]
  },
  {
   "cell_type": "code",
   "execution_count": 11,
   "metadata": {},
   "outputs": [
    {
     "name": "stdout",
     "output_type": "stream",
     "text": [
      "Epoch 0 : 7344 / 10000\n",
      "Epoch 1 : 8372 / 10000\n",
      "Epoch 2 : 8484 / 10000\n",
      "Epoch 3 : 8527 / 10000\n",
      "Epoch 4 : 8561 / 10000\n",
      "Epoch 5 : 8583 / 10000\n",
      "Epoch 6 : 8583 / 10000\n",
      "Epoch 7 : 8614 / 10000\n",
      "Epoch 8 : 8614 / 10000\n",
      "Epoch 9 : 8625 / 10000\n",
      "Epoch 10 : 8637 / 10000\n",
      "Epoch 11 : 8615 / 10000\n",
      "Epoch 12 : 8641 / 10000\n",
      "Epoch 13 : 8665 / 10000\n",
      "Epoch 14 : 8656 / 10000\n",
      "Epoch 15 : 8634 / 10000\n",
      "Epoch 16 : 8669 / 10000\n",
      "Epoch 17 : 8681 / 10000\n",
      "Epoch 18 : 8671 / 10000\n",
      "Epoch 19 : 8652 / 10000\n",
      "Epoch 20 : 8678 / 10000\n",
      "Epoch 21 : 8687 / 10000\n",
      "Epoch 22 : 8671 / 10000\n",
      "Epoch 23 : 8683 / 10000\n",
      "Epoch 24 : 8686 / 10000\n",
      "Epoch 25 : 8676 / 10000\n",
      "Epoch 26 : 8679 / 10000\n",
      "Epoch 27 : 8693 / 10000\n",
      "Epoch 28 : 8932 / 10000\n",
      "Epoch 29 : 9612 / 10000\n"
     ]
    }
   ],
   "source": [
    "net = network.Network([784, 100, 10])\n",
    "net.SGD(training_data, epochs=30, mini_batch_size=10, eta=3.0, test_data=test_data)"
   ]
  },
  {
   "cell_type": "code",
   "execution_count": 14,
   "metadata": {},
   "outputs": [
    {
     "name": "stdout",
     "output_type": "stream",
     "text": [
      "Epoch 0 : 1673 / 10000\n",
      "Epoch 1 : 1991 / 10000\n",
      "Epoch 2 : 2250 / 10000\n",
      "Epoch 3 : 2686 / 10000\n",
      "Epoch 4 : 3010 / 10000\n",
      "Epoch 5 : 3273 / 10000\n",
      "Epoch 6 : 3453 / 10000\n",
      "Epoch 7 : 3613 / 10000\n",
      "Epoch 8 : 3789 / 10000\n",
      "Epoch 9 : 4015 / 10000\n",
      "Epoch 10 : 4248 / 10000\n",
      "Epoch 11 : 4377 / 10000\n",
      "Epoch 12 : 4464 / 10000\n",
      "Epoch 13 : 4519 / 10000\n",
      "Epoch 14 : 4562 / 10000\n",
      "Epoch 15 : 4602 / 10000\n",
      "Epoch 16 : 4638 / 10000\n",
      "Epoch 17 : 4647 / 10000\n",
      "Epoch 18 : 4666 / 10000\n",
      "Epoch 19 : 4687 / 10000\n",
      "Epoch 20 : 4708 / 10000\n",
      "Epoch 21 : 4722 / 10000\n",
      "Epoch 22 : 4745 / 10000\n",
      "Epoch 23 : 4750 / 10000\n",
      "Epoch 24 : 4762 / 10000\n",
      "Epoch 25 : 4769 / 10000\n",
      "Epoch 26 : 4777 / 10000\n",
      "Epoch 27 : 4790 / 10000\n",
      "Epoch 28 : 4798 / 10000\n",
      "Epoch 29 : 4805 / 10000\n"
     ]
    }
   ],
   "source": [
    "net = network.Network([784, 100, 10])\n",
    "net.SGD(training_data, epochs=30, mini_batch_size=10, eta=0.01, test_data=test_data)"
   ]
  },
  {
   "cell_type": "code",
   "execution_count": 15,
   "metadata": {},
   "outputs": [
    {
     "name": "stdout",
     "output_type": "stream",
     "text": [
      "Epoch 0 : 5343 / 10000\n",
      "Epoch 1 : 5545 / 10000\n",
      "Epoch 2 : 6375 / 10000\n",
      "Epoch 3 : 7254 / 10000\n",
      "Epoch 4 : 7352 / 10000\n",
      "Epoch 5 : 7425 / 10000\n",
      "Epoch 6 : 7443 / 10000\n",
      "Epoch 7 : 7454 / 10000\n",
      "Epoch 8 : 7488 / 10000\n",
      "Epoch 9 : 7496 / 10000\n",
      "Epoch 10 : 7517 / 10000\n",
      "Epoch 11 : 7500 / 10000\n",
      "Epoch 12 : 7534 / 10000\n",
      "Epoch 13 : 7539 / 10000\n",
      "Epoch 14 : 7558 / 10000\n",
      "Epoch 15 : 8633 / 10000\n",
      "Epoch 16 : 8650 / 10000\n",
      "Epoch 17 : 8662 / 10000\n",
      "Epoch 18 : 8661 / 10000\n",
      "Epoch 19 : 8659 / 10000\n",
      "Epoch 20 : 8659 / 10000\n",
      "Epoch 21 : 8676 / 10000\n",
      "Epoch 22 : 8660 / 10000\n",
      "Epoch 23 : 8677 / 10000\n",
      "Epoch 24 : 8689 / 10000\n",
      "Epoch 25 : 8680 / 10000\n",
      "Epoch 26 : 8679 / 10000\n",
      "Epoch 27 : 8682 / 10000\n",
      "Epoch 28 : 8696 / 10000\n",
      "Epoch 29 : 8688 / 10000\n"
     ]
    }
   ],
   "source": [
    "net = network.Network([784, 100, 10])\n",
    "net.SGD(training_data, epochs=30, mini_batch_size=10, eta=1.0, test_data=test_data)"
   ]
  },
  {
   "cell_type": "code",
   "execution_count": 16,
   "metadata": {},
   "outputs": [
    {
     "name": "stdout",
     "output_type": "stream",
     "text": [
      "Epoch 0 : 5702 / 10000\n",
      "Epoch 1 : 6652 / 10000\n",
      "Epoch 2 : 6689 / 10000\n",
      "Epoch 3 : 7529 / 10000\n",
      "Epoch 4 : 8492 / 10000\n",
      "Epoch 5 : 8547 / 10000\n",
      "Epoch 6 : 8571 / 10000\n",
      "Epoch 7 : 8603 / 10000\n",
      "Epoch 8 : 8607 / 10000\n",
      "Epoch 9 : 8610 / 10000\n",
      "Epoch 10 : 8627 / 10000\n",
      "Epoch 11 : 8635 / 10000\n",
      "Epoch 12 : 8655 / 10000\n",
      "Epoch 13 : 8667 / 10000\n",
      "Epoch 14 : 8675 / 10000\n",
      "Epoch 15 : 8665 / 10000\n",
      "Epoch 16 : 8681 / 10000\n",
      "Epoch 17 : 8679 / 10000\n",
      "Epoch 18 : 8678 / 10000\n",
      "Epoch 19 : 8663 / 10000\n",
      "Epoch 20 : 8694 / 10000\n",
      "Epoch 21 : 8699 / 10000\n",
      "Epoch 22 : 8695 / 10000\n",
      "Epoch 23 : 8678 / 10000\n",
      "Epoch 24 : 8704 / 10000\n",
      "Epoch 25 : 8697 / 10000\n",
      "Epoch 26 : 8699 / 10000\n",
      "Epoch 27 : 8694 / 10000\n",
      "Epoch 28 : 8687 / 10000\n",
      "Epoch 29 : 8689 / 10000\n"
     ]
    }
   ],
   "source": [
    "net = network.Network([784, 100, 10])\n",
    "net.SGD(training_data, epochs=30, mini_batch_size=10, eta=2.0, test_data=test_data)"
   ]
  },
  {
   "cell_type": "code",
   "execution_count": 17,
   "metadata": {},
   "outputs": [
    {
     "name": "stdout",
     "output_type": "stream",
     "text": [
      "Epoch 0 : 4742 / 10000\n",
      "Epoch 1 : 4939 / 10000\n",
      "Epoch 2 : 5519 / 10000\n",
      "Epoch 3 : 5700 / 10000\n",
      "Epoch 4 : 5763 / 10000\n",
      "Epoch 5 : 5779 / 10000\n",
      "Epoch 6 : 6565 / 10000\n",
      "Epoch 7 : 6578 / 10000\n",
      "Epoch 8 : 6586 / 10000\n",
      "Epoch 9 : 6576 / 10000\n",
      "Epoch 10 : 6606 / 10000\n",
      "Epoch 11 : 6604 / 10000\n",
      "Epoch 12 : 6612 / 10000\n",
      "Epoch 13 : 6619 / 10000\n",
      "Epoch 14 : 7392 / 10000\n",
      "Epoch 15 : 7413 / 10000\n",
      "Epoch 16 : 7360 / 10000\n",
      "Epoch 17 : 7414 / 10000\n",
      "Epoch 18 : 7404 / 10000\n",
      "Epoch 19 : 7427 / 10000\n",
      "Epoch 20 : 7416 / 10000\n",
      "Epoch 21 : 7410 / 10000\n",
      "Epoch 22 : 7429 / 10000\n",
      "Epoch 23 : 7425 / 10000\n",
      "Epoch 24 : 7429 / 10000\n",
      "Epoch 25 : 7442 / 10000\n",
      "Epoch 26 : 7403 / 10000\n",
      "Epoch 27 : 7432 / 10000\n",
      "Epoch 28 : 7446 / 10000\n",
      "Epoch 29 : 7406 / 10000\n"
     ]
    }
   ],
   "source": [
    "net = network.Network([784, 10])\n",
    "net.SGD(training_data, epochs=30, mini_batch_size=10, eta=3.0, test_data=test_data)"
   ]
  },
  {
   "cell_type": "code",
   "execution_count": 18,
   "metadata": {},
   "outputs": [
    {
     "name": "stdout",
     "output_type": "stream",
     "text": [
      "Epoch 0 : 6211 / 10000\n",
      "Epoch 1 : 7426 / 10000\n",
      "Epoch 2 : 7514 / 10000\n",
      "Epoch 3 : 7615 / 10000\n",
      "Epoch 4 : 7774 / 10000\n",
      "Epoch 5 : 7686 / 10000\n",
      "Epoch 6 : 7715 / 10000\n",
      "Epoch 7 : 7719 / 10000\n",
      "Epoch 8 : 7788 / 10000\n",
      "Epoch 9 : 7766 / 10000\n",
      "Epoch 10 : 7870 / 10000\n",
      "Epoch 11 : 7752 / 10000\n",
      "Epoch 12 : 7875 / 10000\n",
      "Epoch 13 : 7816 / 10000\n",
      "Epoch 14 : 7751 / 10000\n",
      "Epoch 15 : 7920 / 10000\n",
      "Epoch 16 : 7870 / 10000\n",
      "Epoch 17 : 8054 / 10000\n",
      "Epoch 18 : 7925 / 10000\n",
      "Epoch 19 : 7836 / 10000\n",
      "Epoch 20 : 7827 / 10000\n",
      "Epoch 21 : 7937 / 10000\n",
      "Epoch 22 : 8131 / 10000\n",
      "Epoch 23 : 8463 / 10000\n",
      "Epoch 24 : 8518 / 10000\n",
      "Epoch 25 : 8678 / 10000\n",
      "Epoch 26 : 8697 / 10000\n",
      "Epoch 27 : 8602 / 10000\n",
      "Epoch 28 : 8615 / 10000\n",
      "Epoch 29 : 8662 / 10000\n"
     ]
    }
   ],
   "source": [
    "net = network.Network([784, 10])\n",
    "net.SGD(training_data, epochs=30, mini_batch_size=10, eta=10.0, test_data=test_data)"
   ]
  },
  {
   "cell_type": "code",
   "execution_count": null,
   "metadata": {
    "collapsed": true
   },
   "outputs": [],
   "source": []
  }
 ],
 "metadata": {
  "kernelspec": {
   "display_name": "Python 3",
   "language": "python",
   "name": "python3"
  },
  "language_info": {
   "codemirror_mode": {
    "name": "ipython",
    "version": 3
   },
   "file_extension": ".py",
   "mimetype": "text/x-python",
   "name": "python",
   "nbconvert_exporter": "python",
   "pygments_lexer": "ipython3",
   "version": "3.6.3"
  },
  "latex_envs": {
   "LaTeX_envs_menu_present": true,
   "autocomplete": true,
   "bibliofile": "biblio.bib",
   "cite_by": "apalike",
   "current_citInitial": 1,
   "eqLabelWithNumbers": true,
   "eqNumInitial": 1,
   "hotkeys": {
    "equation": "Ctrl-E",
    "itemize": "Ctrl-I"
   },
   "labels_anchors": false,
   "latex_user_defs": false,
   "report_style_numbering": false,
   "user_envs_cfg": false
  }
 },
 "nbformat": 4,
 "nbformat_minor": 2
}
